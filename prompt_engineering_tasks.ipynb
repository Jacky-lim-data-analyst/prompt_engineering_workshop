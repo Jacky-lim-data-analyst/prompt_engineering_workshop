{
 "cells": [
  {
   "cell_type": "markdown",
   "id": "ac6581c7-24a3-4208-8770-107c7eca7903",
   "metadata": {},
   "source": [
    "# Tasks\n",
    "\n",
    "There are few tasks that can be performed efficiently by prompting LLMs:\n",
    "1. Text summarization\n",
    "2. Question answering\n",
    "3. Reasoning / inference\n",
    "4. Text transformation / structuring / translation\n",
    "5. Code generation\n",
    "6. Content generation\n",
    "\n",
    "## Setup"
   ]
  },
  {
   "cell_type": "code",
   "execution_count": 1,
   "id": "584b8fbb-7422-47c0-af80-84cb11ae83ef",
   "metadata": {},
   "outputs": [
    {
     "data": {
      "text/plain": [
       "True"
      ]
     },
     "execution_count": 1,
     "metadata": {},
     "output_type": "execute_result"
    }
   ],
   "source": [
    "import openai\n",
    "from dotenv import load_dotenv\n",
    "\n",
    "load_dotenv()"
   ]
  },
  {
   "cell_type": "code",
   "execution_count": 4,
   "id": "bf4599fe-0b0e-415b-ab7b-fdd66d055ead",
   "metadata": {},
   "outputs": [],
   "source": [
    "from openai import OpenAI\n",
    "client = OpenAI()\n",
    "\n",
    "def get_completion(prompt, model_name=\"gpt-3.5-turbo\", temperature=0.0):\n",
    "    # structure the messages in a list of dictionary\n",
    "    messages = [{'role': 'user', 'content': prompt}]\n",
    "    response = client.chat.completions.create(\n",
    "        model=model_name,\n",
    "        messages=messages,\n",
    "        temperature=temperature\n",
    "    )\n",
    "    return response.choices[0].message.content"
   ]
  },
  {
   "cell_type": "markdown",
   "id": "f48ec24a-1114-4ff8-8ad4-a6f64333d2f0",
   "metadata": {},
   "source": [
    "## Text summarization\n",
    "\n",
    "### Simple example"
   ]
  },
  {
   "cell_type": "code",
   "execution_count": 5,
   "id": "d242b26b-e7ee-4c6e-bf3f-bc36addfdb73",
   "metadata": {},
   "outputs": [
    {
     "name": "stdout",
     "output_type": "stream",
     "text": [
      "The reviewer ordered the Vivo X100 Pro Global Version from Best Mobile Phone Australia after confirming availability and delivery details through live chat. They received prompt responses and updates on their order via email. The order was shipped from Hong Kong via DHL Express and arrived in Australia within 4 days. The reviewer was pleased with the quick delivery and excellent service provided by the company.\n"
     ]
    }
   ],
   "source": [
    "prod_review = \"\"\"\n",
    "Ordered Vivo X100 Pro Global Version after live chat confirming availability, global version, \\\n",
    "delivery time frame. Received prompt response @ live chat from Best Mobile Phone Australia. \\\n",
    "Ordered online same day. Received order update on email. Order was shipped from Hong Kong via \\\n",
    "DHL Express shipping with tracking of shipment. Received parcel with quick delivery in 4 days \\\n",
    "in Australia. Excellent Service. Thank you\"\"\"\n",
    "\n",
    "prompt = f\"\"\"\n",
    "Your task is to generate a summary of product review an ecommerce site. \\\n",
    "Summarize the review below: \n",
    "'''{prod_review}'''\"\"\"\n",
    "\n",
    "response = get_completion(prompt)\n",
    "print(response)"
   ]
  },
  {
   "cell_type": "markdown",
   "id": "6684a6ae-98e6-4d7a-b161-ddcfc9ef0cc9",
   "metadata": {},
   "source": [
    "### Summarize with sentences count"
   ]
  },
  {
   "cell_type": "code",
   "execution_count": 6,
   "id": "276c56a9-ae7b-4580-910f-c4b0f2885ccc",
   "metadata": {},
   "outputs": [
    {
     "name": "stdout",
     "output_type": "stream",
     "text": [
      "The customer ordered the Vivo X100 Pro Global Version from Best Mobile Phone Australia after confirming availability and delivery details through live chat. The order was promptly processed, shipped from Hong Kong via DHL Express, and delivered to Australia in just 4 days, resulting in excellent service and satisfaction.\n"
     ]
    }
   ],
   "source": [
    "prompt = f\"\"\"\n",
    "Your task is to generate a summary of product review an ecommerce site. \\\n",
    "Summarize the review below in two sentences:\n",
    "'''{prod_review}'''\"\"\"\n",
    "\n",
    "response = get_completion(prompt)\n",
    "print(response)"
   ]
  },
  {
   "cell_type": "markdown",
   "id": "68e4610b-3ebd-4b4b-b5fd-8ceb2b20f343",
   "metadata": {},
   "source": [
    "### Use case: summarize a product fact sheet"
   ]
  },
  {
   "cell_type": "code",
   "execution_count": 7,
   "id": "a2e6e824-b1b0-43e4-82aa-3cdb07d12316",
   "metadata": {},
   "outputs": [
    {
     "name": "stdout",
     "output_type": "stream",
     "text": [
      "Introducing the Acer Consumer Laptop (Aspire Lite), the perfect companion for all your computing needs. With Windows 11 Home and Microsoft Office Home & Student 2021 pre-installed (by activation), you'll have everything you need to work and play right out of the box.\n",
      "\n",
      "Featuring a sleek 14.0'' IPS display with a screen resolution of 1920 x 1200, you'll enjoy crisp and clear visuals for all your tasks. The Intel N100 processor with a speed of 3.4 GHz ensures smooth performance, whether you're multitasking or streaming your favorite content.\n",
      "\n",
      "With a solid state drive capacity of 512 GB, you'll have ample storage space for all your files, photos, and videos. The lightweight and portable design of the laptop, with a height of 18.95mm, depth of 220mm, and weight of 1.35kg, makes it easy to take with you wherever you go.\n",
      "\n",
      "Upgrade your computing experience with the Acer Consumer Laptop (Aspire Lite) and enjoy a seamless and efficient performance for all your needs. Get yours today and elevate your productivity to the next level.\n"
     ]
    }
   ],
   "source": [
    "fact_sheet_laptop = \"\"\"\n",
    "Overview\n",
    "- Name: Acer Consumer Laptop (Aspire Lite)\n",
    "- Window 11 Home\n",
    "- Microsoft Office Home & Student 2021 (by activation)\n",
    "- 14.0\\'\\' IPS display\n",
    "\n",
    "Processor\n",
    "- Model: N100\n",
    "- Speed: 3.4 GHz\n",
    "\n",
    "Storage \n",
    "- Solid state drive capacity: 512 GB\n",
    "\n",
    "Display & Graphics\n",
    "- Screen Resolution: 1920 x 1200\n",
    "- Manufacturer: Intel\n",
    "\n",
    "Physical characteristics\n",
    "- Height: 18.95mm\n",
    "- Depth: 220mm\n",
    "- Weight: 1.35kg\"\"\"\n",
    "\n",
    "prompt = f\"\"\"\n",
    "Your task is to help marketing team to create a description of a retail website \\\n",
    "of a product based on the technical fact sheet. \\\n",
    "Write a product description based on the information given in the following fact sheet: \\\n",
    "\n",
    "'''{fact_sheet_laptop}'''\"\"\"\n",
    "\n",
    "response = get_completion(prompt)\n",
    "print(response)"
   ]
  },
  {
   "cell_type": "markdown",
   "id": "8f7e07d4-3eef-4dfd-a93c-6f00ebb84a5d",
   "metadata": {},
   "source": [
    "#### Limit the response length"
   ]
  },
  {
   "cell_type": "code",
   "execution_count": 8,
   "id": "09099512-1b84-4715-8dcd-14e7649340f6",
   "metadata": {},
   "outputs": [
    {
     "name": "stdout",
     "output_type": "stream",
     "text": [
      "Introducing the Acer Consumer Laptop (Aspire Lite) with Windows 11 Home and Microsoft Office Home & Student 2021. Featuring a 14.0'' IPS display, N100 processor with 3.4 GHz speed, 512 GB SSD, and Intel graphics. Sleek and lightweight design at 18.95mm height, 220mm depth, and 1.35kg weight. Get yours today!\n"
     ]
    }
   ],
   "source": [
    "prompt = f\"\"\"\n",
    "Your task is to help marketing team to create a description of a retail website \\\n",
    "of a product based on the technical fact sheet. \\\n",
    "Write a product description based on the information given in the following fact sheet. \\\n",
    "Limit your answer to at most 50 words. \\\n",
    "\n",
    "'''{fact_sheet_laptop}'''\"\"\"\n",
    "\n",
    "response = get_completion(prompt)\n",
    "print(response)"
   ]
  },
  {
   "cell_type": "markdown",
   "id": "24e628bf-bdd6-4fa2-ab3a-fc656c6b0358",
   "metadata": {},
   "source": [
    "#### Structure the output in certain format"
   ]
  },
  {
   "cell_type": "code",
   "execution_count": 9,
   "id": "2965684d-283f-4214-9c13-e404c8d68b34",
   "metadata": {},
   "outputs": [
    {
     "name": "stdout",
     "output_type": "stream",
     "text": [
      "Introducing the Acer Consumer Laptop (Aspire Lite), featuring Windows 11 Home and Microsoft Office Home & Student 2021 for productivity on the go. With a 14.0'' IPS display, Intel N100 processor running at 3.4 GHz, and a 512 GB solid state drive, this laptop offers a sleek design and powerful performance in a lightweight package.\n",
      "\n",
      "| Specification              | Details          |\n",
      "|----------------------------|------------------|\n",
      "| Processor Model            | N100             |\n",
      "| Processor Speed            | 3.4 GHz          |\n",
      "| Storage Capacity           | 512 GB           |\n",
      "| Screen Resolution          | 1920 x 1200      |\n",
      "| Manufacturer               | Intel            |\n",
      "| Height                     | 18.95mm          |\n",
      "| Depth                      | 220mm            |\n",
      "| Weight                     | 1.35kg           |\n"
     ]
    }
   ],
   "source": [
    "prompt = f\"\"\"\n",
    "Your task is to help marketing team to create a description of a retail website \\\n",
    "of a product based on the technical fact sheet. \\\n",
    "Write a product description based on the information given in the following fact sheet. \\\n",
    "Limit your answer to at most four sentences. \\\n",
    "\n",
    "Provide a table after the product description. \\\n",
    "The table should contain two columns: first column is the list of specifications, while \\\n",
    "the second column is the details of the corresponding specification. \\\n",
    "\n",
    "'''{fact_sheet_laptop}'''\"\"\"\n",
    "\n",
    "response = get_completion(prompt)\n",
    "print(response)"
   ]
  },
  {
   "cell_type": "code",
   "execution_count": 11,
   "id": "23191fdc-18fe-4a8b-a5ea-b7e79f2410a3",
   "metadata": {},
   "outputs": [
    {
     "data": {
      "text/markdown": [
       "Introducing the Acer Consumer Laptop (Aspire Lite), featuring Windows 11 Home and Microsoft Office Home & Student 2021 for productivity on the go. With a 14.0'' IPS display, Intel N100 processor running at 3.4 GHz, and a 512 GB solid state drive, this laptop offers a sleek design and powerful performance in a lightweight package.\n",
       "\n",
       "| Specification              | Details          |\n",
       "|----------------------------|------------------|\n",
       "| Processor Model            | N100             |\n",
       "| Processor Speed            | 3.4 GHz          |\n",
       "| Storage Capacity           | 512 GB           |\n",
       "| Screen Resolution          | 1920 x 1200      |\n",
       "| Manufacturer               | Intel            |\n",
       "| Height                     | 18.95mm          |\n",
       "| Depth                      | 220mm            |\n",
       "| Weight                     | 1.35kg           |"
      ],
      "text/plain": [
       "<IPython.core.display.Markdown object>"
      ]
     },
     "metadata": {},
     "output_type": "display_data"
    }
   ],
   "source": [
    "from IPython.display import display, Markdown\n",
    "display(Markdown(response))"
   ]
  },
  {
   "cell_type": "markdown",
   "id": "27b4ae84-b4d2-4e13-84e7-d648db825e1b",
   "metadata": {},
   "source": [
    "## Question answering"
   ]
  },
  {
   "cell_type": "code",
   "execution_count": 12,
   "id": "f5b92612-d7bd-44f8-8f47-b7c34f456b71",
   "metadata": {},
   "outputs": [
    {
     "name": "stdout",
     "output_type": "stream",
     "text": [
      "A black hole is a huge concentration of matter packed into a very tiny space, with gravity so strong that nothing, not even light, can escape from it.\n"
     ]
    }
   ],
   "source": [
    "question = \"What is a black hole?\"\n",
    "\n",
    "context = \"\"\"\n",
    "Black holes are among the most mysterious cosmic objects, much studied but not fully understood. These objects aren’t really holes. \\\n",
    "They’re huge concentrations of matter packed into very tiny spaces. A black hole is so dense that gravity just beneath its surface, \\\n",
    "the event horizon, is strong enough that nothing – not even light – can escape. \\\n",
    "The event horizon isn’t a surface like Earth’s or even the Sun’s. \\\n",
    "It’s a boundary that contains all the matter that makes up the black hole.\"\"\"\n",
    "\n",
    "prompt = f\"\"\"\n",
    "Answer the following question based on the context provided. \\\n",
    "\n",
    "Context: {context}\n",
    "\n",
    "Question: {question}\"\"\"\n",
    "\n",
    "response = get_completion(prompt)\n",
    "print(response)"
   ]
  },
  {
   "cell_type": "markdown",
   "id": "9aabf6ee-d099-4389-9c56-668306e3b7ef",
   "metadata": {},
   "source": [
    "There is a major flaw in the prompt: the LLM will still yield \"meaningful\" results, even the question is irrelevant to the context given, as shown below. How can we resolve this?"
   ]
  },
  {
   "cell_type": "code",
   "execution_count": 13,
   "id": "01e5cd38-445e-481f-b69d-86dcddd62ec3",
   "metadata": {},
   "outputs": [
    {
     "name": "stdout",
     "output_type": "stream",
     "text": [
      "Quantum computing is a cutting-edge technology that utilizes the principles of quantum mechanics to perform calculations at speeds far beyond what traditional computers can achieve. Instead of using bits like classical computers, which can only be in a state of 0 or 1, quantum computers use quantum bits or qubits, which can exist in multiple states simultaneously due to a phenomenon called superposition. This allows quantum computers to process vast amounts of data and solve complex problems much faster than classical computers. While still in the early stages of development, quantum computing has the potential to revolutionize fields such as cryptography, drug discovery, and artificial intelligence.\n"
     ]
    }
   ],
   "source": [
    "question = \"Tell me about quantum computing\"\n",
    "\n",
    "context = \"\"\"\n",
    "Black holes are among the most mysterious cosmic objects, much studied but not fully understood. These objects aren’t really holes. \\\n",
    "They’re huge concentrations of matter packed into very tiny spaces. A black hole is so dense that gravity just beneath its surface, \\\n",
    "the event horizon, is strong enough that nothing – not even light – can escape. \\\n",
    "The event horizon isn’t a surface like Earth’s or even the Sun’s. \\\n",
    "It’s a boundary that contains all the matter that makes up the black hole.\"\"\"\n",
    "\n",
    "prompt = f\"\"\"\n",
    "Answer the following question based on the context provided. \\\n",
    "\n",
    "Context: {context}\n",
    "\n",
    "Question: {question}\"\"\"\n",
    "\n",
    "response = get_completion(prompt)\n",
    "print(response)"
   ]
  },
  {
   "cell_type": "code",
   "execution_count": 14,
   "id": "6bade2aa-c5c0-4320-a499-364c9bfee839",
   "metadata": {},
   "outputs": [
    {
     "name": "stdout",
     "output_type": "stream",
     "text": [
      "Information not available. Sorry.\n"
     ]
    }
   ],
   "source": [
    "question = \"Tell me about quantum computing\"\n",
    "\n",
    "context = \"\"\"\n",
    "Black holes are among the most mysterious cosmic objects, much studied but not fully understood. These objects aren’t really holes. \\\n",
    "They’re huge concentrations of matter packed into very tiny spaces. A black hole is so dense that gravity just beneath its surface, \\\n",
    "the event horizon, is strong enough that nothing – not even light – can escape. \\\n",
    "The event horizon isn’t a surface like Earth’s or even the Sun’s. \\\n",
    "It’s a boundary that contains all the matter that makes up the black hole.\"\"\"\n",
    "\n",
    "prompt = f\"\"\"\n",
    "Answer the following question based on the context provided. \\\n",
    "If you can't find relevant answer from the context, just say 'information not available. Sorry.'.\n",
    "\n",
    "Context: {context}\n",
    "\n",
    "Question: {question}\"\"\"\n",
    "\n",
    "response = get_completion(prompt)\n",
    "print(response)"
   ]
  },
  {
   "cell_type": "markdown",
   "id": "b7d2f04e-635b-4104-96f0-a0dbcd58185b",
   "metadata": {},
   "source": [
    "## Reasoning / inference\n",
    "\n",
    "### Sentiment analysis"
   ]
  },
  {
   "cell_type": "code",
   "execution_count": 15,
   "id": "2d72d12b-ffda-471f-a5f1-baac8a1d9ff9",
   "metadata": {},
   "outputs": [
    {
     "name": "stdout",
     "output_type": "stream",
     "text": [
      "The sentiment of the product review is negative. The customer is frustrated with the lack of communication and delays in receiving the product they ordered. They feel that the customer service is terrible and that it has been a waste of their time.\n"
     ]
    }
   ],
   "source": [
    "prod_review = \"\"\"\n",
    "The product was out of stock. Told me it would restock in 1-2 weeks. 2 weeks of radio silence \\\n",
    "and only replied 2 days after I sent an email to ask after I had waited for so long. \\\n",
    "Said the product would \\\"dispatch tomorrow\\\" and then did not get back to me again. \\\n",
    "It has been over 3 weeks since I placed and paid for my order, but still no product in sight. \\\n",
    "I even sent messages via Whatsapp but did not receive any helpful information either, \\\n",
    "and was ignored 3 times for a week. Terrible customer service. What a waste of time.\n",
    "\"\"\"\n",
    "\n",
    "prompt = f\"\"\"\n",
    "What is the sentiment of the product review below?\n",
    "\n",
    "'''{prod_review}'''\n",
    "\"\"\"\n",
    "\n",
    "response = get_completion(prompt)\n",
    "print(response)"
   ]
  },
  {
   "cell_type": "markdown",
   "id": "87eb2a88-d070-4e2c-bab7-5d499ac24b85",
   "metadata": {},
   "source": [
    "### Identify the types of emotions"
   ]
  },
  {
   "cell_type": "code",
   "execution_count": 16,
   "id": "80065a1a-974f-4274-8961-e3025b232724",
   "metadata": {},
   "outputs": [
    {
     "name": "stdout",
     "output_type": "stream",
     "text": [
      "frustrated, disappointed, ignored\n"
     ]
    }
   ],
   "source": [
    "prompt = f\"\"\"\n",
    "Identify a list of emotions that the writer of the following product review is expressing. \\\n",
    "Include at most three emotions in the list. Format your output as a list of lower-case words \\\n",
    "separated by comma. \\\n",
    "\n",
    "'''{prod_review}'''\n",
    "\"\"\"\n",
    "\n",
    "response = get_completion(prompt)\n",
    "print(response)"
   ]
  },
  {
   "cell_type": "markdown",
   "id": "398121ca-bdbc-489d-ad1a-7cca703ae981",
   "metadata": {},
   "source": [
    "### Extract product and delivery companies from customer reviews"
   ]
  },
  {
   "cell_type": "code",
   "execution_count": 17,
   "id": "65b12f99-ae4c-4d44-aa4d-a5fd2d10abf0",
   "metadata": {},
   "outputs": [
    {
     "name": "stdout",
     "output_type": "stream",
     "text": [
      "{\n",
      "    \"product\": \"OnePlus 8T KB2003\",\n",
      "    \"courier\": \"DHL\",\n",
      "    \"time\": \"1 week\"\n",
      "}\n"
     ]
    }
   ],
   "source": [
    "another_review = \"\"\"\n",
    "OnePlus 8T KB2003 purchased as difficult to find elsewhere. Product exactly as described \\\n",
    "new in box, adaptor thrown in for free, good communication from seller, delivery in 1 week \\\n",
    "from DHL couriers. No complaints at all and would buy from this seller again. The phone is \\\n",
    "great too :-)\n",
    "\"\"\"\n",
    "\n",
    "prompt = f\"\"\"\n",
    "Identify the following items from the review given:\n",
    "- Product purchased by the reviewer\n",
    "- Courier company which handles the product delivery\n",
    "- Delivery time\n",
    "\n",
    "Provide your answer in JSON format, with 'product', 'courier' and 'time' as the keys. \\\n",
    "If the information is missing, just insert 'unknown' as the value of the corresponding key. \\\n",
    "\n",
    "'''{another_review}'''\n",
    "\"\"\"\n",
    "\n",
    "response = get_completion(prompt)\n",
    "print(response)"
   ]
  },
  {
   "cell_type": "markdown",
   "id": "8ccffc7e-685c-454a-ac53-5cf9405f0f2e",
   "metadata": {},
   "source": [
    "## Text transformation and structuring\n",
    "\n",
    "### Translation"
   ]
  },
  {
   "cell_type": "code",
   "execution_count": 18,
   "id": "678f69e6-ea60-4073-a7cd-a264c408acf9",
   "metadata": {},
   "outputs": [
    {
     "name": "stdout",
     "output_type": "stream",
     "text": [
      "嗨，你什么时候有空和我一起吃午饭？\n"
     ]
    }
   ],
   "source": [
    "text = \"Hi, what time will you be free to have lunch with me?\"\n",
    "\n",
    "prompt = f\"\"\"\n",
    "Translate the following text from English to Chinese: \\\n",
    "'''{text}'''\"\"\"\n",
    "\n",
    "response = get_completion(prompt)\n",
    "print(response)"
   ]
  },
  {
   "cell_type": "code",
   "execution_count": 20,
   "id": "34838e7a-d6ae-4494-a8d6-8215173e7b61",
   "metadata": {},
   "outputs": [
    {
     "name": "stdout",
     "output_type": "stream",
     "text": [
      "This is German.\n"
     ]
    }
   ],
   "source": [
    "text = \"Ich komme aus Österreich und lebe seit drei Jahren in Deutschland.\"\n",
    "\n",
    "prompt = f\"\"\"\n",
    "Tell me which language this is:\n",
    "'''{text}'''\n",
    "\"\"\"\n",
    "\n",
    "response = get_completion(prompt)\n",
    "print(response)"
   ]
  },
  {
   "cell_type": "markdown",
   "id": "9aa53336-29b9-4344-8cce-22b570f14e95",
   "metadata": {},
   "source": [
    "### Spellcheck & proofread"
   ]
  },
  {
   "cell_type": "code",
   "execution_count": 21,
   "id": "24b55201-582b-4840-8dd5-037c30da57bc",
   "metadata": {},
   "outputs": [
    {
     "name": "stdout",
     "output_type": "stream",
     "text": [
      "It rained a lot in 1816.... a lot - like every day; the weather in Europe was abnormally wet because it rained in Switzerland on 130 out of the 183 days from April to September. If I were Mary Shelley, I might decide to write a book too. After all, it was the only thing you could do without TV or anything. She said that she \"passed the summer of 1816 in the environs of Geneva...we occasionally amused ourselves with some German stories of ghosts... These tales excited in us a playful desire of imitation.\" So, people were stuck inside and bored. Mary Shelley decided to write a book because it was so awful outside. I can totally see her point, you know? I guess I would write a novel if there was nothing else to do.\n"
     ]
    }
   ],
   "source": [
    "text = \"\"\"\n",
    "It rained a lot in 1816.... a lot - like everyday; the weather in Europe was abnormally wet because it rained in Switzerland on \\\n",
    "130 out of the 183 days from April to September. If I was Mary Shelley I might decide to write a book too. \\\n",
    "Afterall, it was the onnly thing you could do without TV or anything. She said that she \"passed the summer of 1816 in the \\\n",
    "environs of Geneva...we occasionally amused ourselves with some German stories of ghosts... \\\n",
    "These tales excited in us a playful desire of imitation\"  So, people were stuck inside and bored. \\\n",
    "Mary Shelley decided to write a book becuase it was so awful outside. I can totally see her point, you know? \\\n",
    "I guess I would write a novel if there was nothing else to do.\"\"\"\n",
    "\n",
    "prompt = f\"\"\"Proofread and correct this paragraph: \n",
    "```{text}```\"\"\"\n",
    "\n",
    "response = get_completion(prompt)\n",
    "print(response)"
   ]
  },
  {
   "cell_type": "code",
   "execution_count": 23,
   "id": "75b269a7-65ee-4d4a-bf32-824e5404c2cd",
   "metadata": {},
   "outputs": [
    {
     "data": {
      "text/markdown": [
       "It rained a lot in 1816.... a lot - like <span style='color:red;font-weight:700;text-decoration:line-through;'>everyday; </span><span style='color:green;font-weight:700;'>every day; </span>the weather in Europe was abnormally wet because it rained in Switzerland on 130 out of the 183 days from April to September. If I <span style='color:red;font-weight:700;text-decoration:line-through;'>was </span><span style='color:green;font-weight:700;'>were </span>Mary <span style='color:red;font-weight:700;text-decoration:line-through;'>Shelley </span><span style='color:green;font-weight:700;'>Shelley, </span>I might decide to write a book too. <span style='color:red;font-weight:700;text-decoration:line-through;'>Afterall, </span><span style='color:green;font-weight:700;'>After all, </span>it was the <span style='color:red;font-weight:700;text-decoration:line-through;'>onnly </span><span style='color:green;font-weight:700;'>only </span>thing you could do without TV or anything. She said that she \"passed the summer of 1816 in the environs of Geneva...we occasionally amused ourselves with some German stories of ghosts... These tales excited in us a playful desire of <span style='color:red;font-weight:700;text-decoration:line-through;'>imitation\"  </span><span style='color:green;font-weight:700;'>imitation.\" </span>So, people were stuck inside and bored. Mary Shelley decided to write a book <span style='color:red;font-weight:700;text-decoration:line-through;'>becuase </span><span style='color:green;font-weight:700;'>because </span>it was so awful outside. I can totally see her point, you know? I guess I would write a novel if there was nothing else to do."
      ],
      "text/plain": [
       "<IPython.core.display.Markdown object>"
      ]
     },
     "metadata": {},
     "output_type": "display_data"
    }
   ],
   "source": [
    "from redlines import Redlines\n",
    "from IPython.display import display, Markdown\n",
    "\n",
    "diff = Redlines(text, response)\n",
    "display(Markdown(diff.output_markdown))"
   ]
  },
  {
   "cell_type": "markdown",
   "id": "bc2a3943-6454-4bbe-91a4-59e948508470",
   "metadata": {},
   "source": [
    "You may have to install the `Redlines` dependency by typing `pip install redlines` on the cmd."
   ]
  },
  {
   "cell_type": "markdown",
   "id": "8613059e-e1de-4cc8-9fb9-95f0e318ad37",
   "metadata": {},
   "source": [
    "## Coding assistance\n",
    "\n",
    "### Generate code"
   ]
  },
  {
   "cell_type": "code",
   "execution_count": 24,
   "id": "cbc54252-b539-4e92-9468-b45141647d93",
   "metadata": {},
   "outputs": [
    {
     "name": "stdout",
     "output_type": "stream",
     "text": [
      "name = input(\"What is your name? \")\n",
      "email = input(\"What is your email address? \")\n",
      "\n",
      "print(\"Thank you for providing your information.\")\n",
      "print(\"Name: \", name)\n",
      "print(\"Email: \", email)\n"
     ]
    }
   ],
   "source": [
    "prompt = \"Write a Python code that asks users about their names and email addresses.\"\n",
    "\n",
    "response = get_completion(prompt)\n",
    "print(response)"
   ]
  },
  {
   "cell_type": "markdown",
   "id": "27d01870-ca9e-473c-9cc1-f7d9bacb106c",
   "metadata": {},
   "source": [
    "### Turns logic to actual code"
   ]
  },
  {
   "cell_type": "code",
   "execution_count": 25,
   "id": "ee919e73-dbfc-4f35-9a37-2d3e34a522f5",
   "metadata": {},
   "outputs": [
    {
     "name": "stdout",
     "output_type": "stream",
     "text": [
      "# Step 1: Create a list of five books\n",
      "books = ['Harry Potter', 'To Kill a Mockingbird', 'The Great Gatsby', 'Pride and Prejudice', '1984']\n",
      "\n",
      "# Step 2: Create a list of genres for each book\n",
      "genres = ['Fantasy', 'Fiction', 'Classic', 'Romance', 'Dystopian']\n",
      "\n",
      "# Step 3: Combine them to form a json object with keys: 'books' and 'genre'\n",
      "import json\n",
      "\n",
      "book_genre_dict = {'books': books, 'genres': genres}\n",
      "json_object = json.dumps(book_genre_dict)\n",
      "\n",
      "print(json_object)\n"
     ]
    }
   ],
   "source": [
    "context = \"\"\"\n",
    "1. Create a list of five books.\n",
    "2. Create a list of genres for each book in step 1.\n",
    "3. Combine them to form a json object with keys: 'books' and 'genre'\"\"\"\n",
    "\n",
    "prompt = f\"\"\"\n",
    "Write Python code with the following information. Put in comments for each line of code. \\\n",
    "\n",
    "'''{context}'''\n",
    "\"\"\"\n",
    "response = get_completion(prompt)\n",
    "print(response)"
   ]
  },
  {
   "cell_type": "markdown",
   "id": "ee788bc0-e54a-46b1-a306-4561ec2aa3f5",
   "metadata": {},
   "source": [
    "### code completion"
   ]
  },
  {
   "cell_type": "code",
   "execution_count": 26,
   "id": "fb3a58c2-4c33-4113-93e6-fc9f186510a8",
   "metadata": {},
   "outputs": [
    {
     "name": "stdout",
     "output_type": "stream",
     "text": [
      "num1, num2):\n",
      "    result = (num1 * num2) + 75\n",
      "    return result\n",
      "\n",
      "# Example usage\n",
      "print(multiply(5, 10))  # Output: 125\n"
     ]
    }
   ],
   "source": [
    "incomplete_code = \"\"\"\n",
    "# function to multiply two numbers and add 75 to it\n",
    " \n",
    "def multiply(\"\"\"\n",
    "\n",
    "prompt = f\"\"\"\n",
    "Act as a Python programmer. Complete the following incomplete code snippet. \\\n",
    "\n",
    "'''{incomplete_code}'''\"\"\"\n",
    "\n",
    "response = get_completion(prompt)\n",
    "print(response)"
   ]
  },
  {
   "cell_type": "markdown",
   "id": "8da18e1d-f651-4257-8f2e-64beb69bc8c1",
   "metadata": {},
   "source": [
    "## Content generation\n",
    "- Email\n",
    "- Blog\n",
    "- Study buddy (small test, pop quiz)"
   ]
  },
  {
   "cell_type": "code",
   "execution_count": 27,
   "id": "75112646-92c7-4f18-b484-de9019200288",
   "metadata": {},
   "outputs": [
    {
     "name": "stdout",
     "output_type": "stream",
     "text": [
      "Subject: Out of Office - Sick Leave\n",
      "\n",
      "Dear [Boss's Name],\n",
      "\n",
      "I hope this email finds you well. I wanted to inform you that I will be out of the office today as I am feeling unwell. I will be taking a sick day to rest and recover.\n",
      "\n",
      "I apologize for any inconvenience this may cause and I will make sure to catch up on any missed work as soon as I am feeling better.\n",
      "\n",
      "Thank you for your understanding.\n",
      "\n",
      "Best regards,\n",
      "[Your Name]\n"
     ]
    }
   ],
   "source": [
    "prompt = \"\"\"\n",
    "Write a short notification email to my boss saying that I will be out of office today since I am sick. \\\n",
    "Make sure the tone is sincere.\"\"\"\n",
    "\n",
    "response = get_completion(prompt)\n",
    "print(response)"
   ]
  },
  {
   "cell_type": "code",
   "execution_count": 28,
   "id": "07526150-1022-462d-a4c1-a71637a0988d",
   "metadata": {},
   "outputs": [
    {
     "name": "stdout",
     "output_type": "stream",
     "text": [
      "I. Introduction\n",
      "- Briefly introduce the topic of electric vehicles (EVs) and their increasing popularity in the automotive industry.\n",
      "\n",
      "II. History of EVs\n",
      "- Discuss the history of electric vehicles, including their early development and how they have evolved over time.\n",
      "\n",
      "III. Benefits of EVs\n",
      "- Highlight the various benefits of electric vehicles, such as reduced emissions, lower operating costs, and improved energy efficiency.\n",
      "\n",
      "IV. Rise in Popularity\n",
      "- Explore the reasons behind the rising popularity of electric vehicles, including advancements in technology, government incentives, and growing environmental awareness.\n",
      "\n",
      "V. Challenges and Opportunities\n",
      "- Discuss the challenges that the electric vehicle industry faces, such as infrastructure limitations and range anxiety, as well as the opportunities for growth and innovation.\n",
      "\n",
      "VI. Conclusion\n",
      "- Summarize the key points discussed in the blog post and emphasize the importance of electric vehicles in the transition to a more sustainable transportation system.\n"
     ]
    }
   ],
   "source": [
    "prompt = \"\"\"\n",
    "Write a brief outline for a short blog post about the rise of electric vehicle.\"\"\"\n",
    "\n",
    "response = get_completion(prompt, temperature=0.5)\n",
    "print(response)"
   ]
  },
  {
   "cell_type": "code",
   "execution_count": 29,
   "id": "cdcf1c75-ae59-414c-a8f9-e2f0fdf54574",
   "metadata": {},
   "outputs": [
    {
     "name": "stdout",
     "output_type": "stream",
     "text": [
      "Electric vehicles (EVs) have been making waves in the automotive industry, with their popularity on the rise. From their humble beginnings to the cutting-edge technology of today, electric vehicles have come a long way. The benefits of EVs are numerous, including reduced emissions, lower operating costs, and improved energy efficiency.\n",
      "\n",
      "The increasing popularity of electric vehicles can be attributed to advancements in technology, government incentives, and a growing environmental consciousness among consumers. However, the industry still faces challenges such as infrastructure limitations and range anxiety.\n",
      "\n",
      "Despite these challenges, the future looks bright for electric vehicles, with opportunities for growth and innovation abound. As we strive towards a more sustainable transportation system, electric vehicles play a crucial role in reducing our carbon footprint and creating a cleaner, greener future for all. Let's embrace the electric revolution and drive towards a more sustainable tomorrow.\n"
     ]
    }
   ],
   "source": [
    "context = \"\"\"\n",
    "I. Introduction\n",
    "- Briefly introduce the topic of electric vehicles (EVs) and their increasing popularity in the automotive industry.\n",
    "\n",
    "II. History of EVs\n",
    "- Discuss the history of electric vehicles, including their early development and how they have evolved over time.\n",
    "\n",
    "III. Benefits of EVs\n",
    "- Highlight the various benefits of electric vehicles, such as reduced emissions, lower operating costs, and improved energy efficiency.\n",
    "\n",
    "IV. Rise in Popularity\n",
    "- Explore the reasons behind the rising popularity of electric vehicles, including advancements in technology, government incentives, and growing environmental awareness.\n",
    "\n",
    "V. Challenges and Opportunities\n",
    "- Discuss the challenges that the electric vehicle industry faces, such as infrastructure limitations and range anxiety, as well as the opportunities for growth and innovation.\n",
    "\n",
    "VI. Conclusion\n",
    "- Summarize the key points discussed in the blog post and emphasize the importance of electric vehicles in the transition to a more sustainable transportation system.\"\"\"\n",
    "\n",
    "prompt = f\"\"\"\n",
    "Based on the context given below, write a short blog post in less than 150 words.\n",
    "\n",
    "Context: {context}\"\"\"\n",
    "\n",
    "response = get_completion(prompt, temperature=0.5)\n",
    "print(response)"
   ]
  },
  {
   "cell_type": "code",
   "execution_count": 31,
   "id": "46bbc2ce-7cde-4cbb-ac2f-c7ee1da5a6a2",
   "metadata": {},
   "outputs": [
    {
     "name": "stdout",
     "output_type": "stream",
     "text": [
      "1. What is the main difference between Reinforcement Learning and Supervised Learning?\n",
      "2. How does an agent in Reinforcement Learning receive feedback for its actions?\n",
      "3. Why is Reinforcement Learning suitable for problems where decision making is sequential and the goal is long-term?\n",
      "4. How does an agent in Reinforcement Learning explore and learn from its environment?\n",
      "5. Can you provide an example of how a robotic dog learning the movement of its arms exemplifies Reinforcement Learning?\n"
     ]
    }
   ],
   "source": [
    "notes = \"\"\"\n",
    "- Reinforcement Learning is a feedback-based Machine learning technique in which an agent learns to behave in an environment by performing the actions and seeing the results of actions. For each good action, the agent gets positive feedback, and for each bad action, the agent gets negative feedback or penalty.\n",
    "- In Reinforcement Learning, the agent learns automatically using feedbacks without any labeled data, unlike supervised learning.\n",
    "- Since there is no labeled data, so the agent is bound to learn by its experience only.\n",
    "- RL solves a specific type of problem where decision making is sequential, and the goal is long-term, such as game-playing, robotics, etc.\n",
    "- The agent interacts with the environment and explores it by itself. The primary goal of an agent in reinforcement learning is to improve the performance by getting the maximum positive rewards.\n",
    "- The agent learns with the process of hit and trial, and based on the experience, it learns to perform the task in a better way. Hence, we can say that \"Reinforcement learning is a type of machine learning method where an intelligent agent (computer program) interacts with the environment and learns to act within that.\" How a Robotic dog learns the movement of his arms is an example of Reinforcement learning.\n",
    "\"\"\"\n",
    "\n",
    "prompt = f\"\"\"\n",
    "Based on the following notes, generate five questions to test my understanding.\n",
    "\n",
    "'''{notes}'''\"\"\"\n",
    "\n",
    "response = get_completion(prompt, temperature=0.5)\n",
    "print(response)"
   ]
  },
  {
   "cell_type": "code",
   "execution_count": null,
   "id": "f025941b-0e2a-4186-bd11-375470dd8855",
   "metadata": {},
   "outputs": [],
   "source": []
  }
 ],
 "metadata": {
  "kernelspec": {
   "display_name": "Python 3 (ipykernel)",
   "language": "python",
   "name": "python3"
  },
  "language_info": {
   "codemirror_mode": {
    "name": "ipython",
    "version": 3
   },
   "file_extension": ".py",
   "mimetype": "text/x-python",
   "name": "python",
   "nbconvert_exporter": "python",
   "pygments_lexer": "ipython3",
   "version": "3.10.12"
  }
 },
 "nbformat": 4,
 "nbformat_minor": 5
}
