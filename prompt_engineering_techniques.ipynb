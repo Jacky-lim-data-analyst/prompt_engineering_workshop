{
 "cells": [
  {
   "cell_type": "markdown",
   "id": "0673ed48-406a-4561-ba36-7b7e557e28ea",
   "metadata": {},
   "source": [
    "# Prompt engineering techniques\n",
    "1. Zero-shot / Few-shot prompting\n",
    "2. Chain of Thought (CoT) prompting\n",
    "3. Self-consistency\n",
    "4. Tree of Thought (ToT) prompting\n",
    "\n",
    "## Setup"
   ]
  },
  {
   "cell_type": "code",
   "execution_count": 1,
   "id": "ac52dacb-7030-4132-9f70-92a0a0fb61cd",
   "metadata": {},
   "outputs": [
    {
     "data": {
      "text/plain": [
       "True"
      ]
     },
     "execution_count": 1,
     "metadata": {},
     "output_type": "execute_result"
    }
   ],
   "source": [
    "from dotenv import load_dotenv\n",
    "import openai\n",
    "\n",
    "load_dotenv()"
   ]
  },
  {
   "cell_type": "code",
   "execution_count": 3,
   "id": "7199dded-e273-4ef2-bd96-2dda68b589bf",
   "metadata": {},
   "outputs": [],
   "source": [
    "from openai import OpenAI\n",
    "client = OpenAI()\n",
    "\n",
    "def get_completion(prompt, model_name=\"gpt-3.5-turbo\", temperature=0.0):\n",
    "    messages = [{'role': 'user', 'content': prompt}]\n",
    "    response = client.chat.completions.create(\n",
    "        model=model_name,\n",
    "        messages=messages,\n",
    "        temperature=temperature\n",
    "    )\n",
    "    return response.choices[0].message.content"
   ]
  },
  {
   "cell_type": "markdown",
   "id": "fa90e97a-1b8e-4b52-9f27-929baf3bfccf",
   "metadata": {},
   "source": [
    "## Zero-shot / One shot prompting\n",
    "\n",
    "### Zero-shot prompting\n",
    "Provide prompt without providing examples. Model generates the response based on its knowledge. Ideal for simple tasks. "
   ]
  },
  {
   "cell_type": "code",
   "execution_count": 4,
   "id": "8bd6482b-6609-4d32-a0a2-112f0974d926",
   "metadata": {},
   "outputs": [
    {
     "name": "stdout",
     "output_type": "stream",
     "text": [
      "Mixed\n"
     ]
    }
   ],
   "source": [
    "text = \"A good app overall, but seems to have a few glitches.\"\n",
    "\n",
    "prompt = f\"\"\"\n",
    "Classify the text below as positive, mixed or negative. \\\n",
    "\n",
    "'''{text}'''\"\"\"\n",
    "\n",
    "response = get_completion(prompt)\n",
    "print(response)"
   ]
  },
  {
   "cell_type": "markdown",
   "id": "279621e1-753a-4206-8bc2-7468610fbcd4",
   "metadata": {},
   "source": [
    "### Few-shot prompting\n",
    "Provides examples (questions-answers pairs) in the prompt to steer the model's behavior. Useful for consistent output formatting."
   ]
  },
  {
   "cell_type": "code",
   "execution_count": 5,
   "id": "5788b2f7-9356-4774-b393-82c98829b544",
   "metadata": {},
   "outputs": [
    {
     "name": "stdout",
     "output_type": "stream",
     "text": [
      "\n",
      "{\n",
      "    \"tablet\": \"Xiaomi Pad 6\",\n",
      "    \"chipset\": \"Qualcomm SM8250-AC Snapdragon 870 5G\",\n",
      "    \"GPU\": \"Adreno 650\",\n",
      "    \"memory\": \"8GB\",\n",
      "    \"battery\": \"8840mAh\"\n",
      "}\n"
     ]
    }
   ],
   "source": [
    "# One-shot prompting\n",
    "prompt = \"\"\"\n",
    "Extract the technical specifications from the text in JSON format.\n",
    "\n",
    "Specification: honor pad X9, Qualcomm SM6225 Snapdragon 685 chipset, Adreno 610 GPU, 8GB RAM, 7250mAh battery.\n",
    "Output: \n",
    "{\n",
    "    \"tablet\": honor pad X9,\n",
    "    \"chipset\": Qualcomm SM6225 Snapdragon 685,\n",
    "    \"GPU\": Adreno 610,\n",
    "    \"memory\": 8GB,\n",
    "    \"battery\": 7250mAh\n",
    "}\n",
    "\n",
    "Specification: Xiaomi Pad 6, Qualcomm SM8250-AC Snapdragon 870 5G chipset, Adreno 650 GPU, 8GB RAM, 8840mAh battery.\n",
    "Output:\"\"\"\n",
    "\n",
    "response = get_completion(prompt)\n",
    "print(response)"
   ]
  },
  {
   "cell_type": "code",
   "execution_count": 6,
   "id": "bbe78b54-906c-4872-9373-dbe6e045414d",
   "metadata": {},
   "outputs": [
    {
     "name": "stdout",
     "output_type": "stream",
     "text": [
      "Real Estate\n"
     ]
    }
   ],
   "source": [
    "# Few-shot prompting\n",
    "prompt = \"\"\"\n",
    "Classify the news title to different topics. \\\n",
    "\n",
    "Title: Arsenal keeper guaranteed league Golden Glove Award.\n",
    "Topic: Sport\n",
    "\n",
    "Title: Apple sales fall in nearly all countries.\n",
    "Topic: Business\n",
    "\n",
    "Title: Apple has big AI ambitions - at a lower cost than its rivals.\n",
    "Topic: Technology\n",
    "\n",
    "Title: Rents for luxury homes in Singapore jump in 1Q amid wider slump.\n",
    "Topic:\n",
    "\"\"\"\n",
    "\n",
    "response = get_completion(prompt)\n",
    "print(response)"
   ]
  },
  {
   "cell_type": "markdown",
   "id": "abf2c361-db7a-4acc-9e96-5d25c4884b58",
   "metadata": {},
   "source": [
    "## CoT prompting\n",
    "\n",
    "### Zero shot CoT prompting\n",
    "**\"Let's think step by step\"** seems to be a magical word that guide the model's reasoning, thereby increasing the likelihood of an accurate answer. Zero-shot-CoT may not be as effective as CoT prompting, when the reasoning tasks are more complex. This technique was first introduced in [Kojima et al.(2022)](https://arxiv.org/abs/2205.11916)."
   ]
  },
  {
   "cell_type": "code",
   "execution_count": 17,
   "id": "b26f940f-0ac2-40c6-8bdd-533b218c907a",
   "metadata": {},
   "outputs": [
    {
     "name": "stdout",
     "output_type": "stream",
     "text": [
      "Bob initially has 4 shuttlecocks. \n",
      "He buys 2 tubes of shuttlecocks, each containing 12 shuttlecocks. \n",
      "So, he buys a total of 2 * 12 = 24 shuttlecocks.\n",
      "Adding the initial 4 shuttlecocks, Bob now has a total of 4 + 24 = 28 shuttlecocks. \n",
      "\n",
      "Therefore, Bob now has 28 shuttlecocks.\n"
     ]
    }
   ],
   "source": [
    "question = \"\"\"\n",
    "Bob has 4 shuttlecocks. He buys 2 more tubes of shuttlecocks. Each tube has 12 shuttlecocks. How many shuttlecocks does he has now?\"\"\"\n",
    "\n",
    "response = get_completion(question)\n",
    "print(response)"
   ]
  },
  {
   "cell_type": "code",
   "execution_count": 18,
   "id": "67addfbd-577a-4744-a7a3-eb8420ed86df",
   "metadata": {},
   "outputs": [
    {
     "name": "stdout",
     "output_type": "stream",
     "text": [
      "Step 1: Bob starts with 4 shuttlecocks.\n",
      "Step 2: He buys 2 tubes of shuttlecocks, each containing 12 shuttlecocks.\n",
      "Step 3: The total number of shuttlecocks in the tubes is 2 tubes * 12 shuttlecocks per tube = 24 shuttlecocks.\n",
      "Step 4: Adding the shuttlecocks Bob already had, the total number of shuttlecocks he has now is 4 shuttlecocks + 24 shuttlecocks = 28 shuttlecocks.\n",
      "\n",
      "Therefore, Bob now has 28 shuttlecocks.\n"
     ]
    }
   ],
   "source": [
    "question = \"\"\"\n",
    "Bob has 4 shuttlecocks. He buys 2 more tubes of shuttlecocks. Each tube has 12 shuttlecocks. How many shuttlecocks does he has now? \\\n",
    "Let's think step by step.\"\"\"\n",
    "\n",
    "response = get_completion(question)\n",
    "print(response)"
   ]
  },
  {
   "cell_type": "code",
   "execution_count": 11,
   "id": "36df849b-9b31-41b0-a1e0-cc5074feeb6f",
   "metadata": {},
   "outputs": [
    {
     "name": "stdout",
     "output_type": "stream",
     "text": [
      "They should order 5 pizzas. \n",
      "\n",
      "10 people x 2 slices per person = 20 slices needed\n",
      "20 slices / 4 slices per pizza = 5 pizzas needed\n"
     ]
    }
   ],
   "source": [
    "question = \"\"\"\n",
    "There is a group of 10 people who are ordering pizza. If each person gets 2 slices and each pizza has 4 slices, \\\n",
    "how many pizzas should they order?\"\"\"\n",
    "\n",
    "response = get_completion(question)\n",
    "print(response)"
   ]
  },
  {
   "cell_type": "code",
   "execution_count": 12,
   "id": "3add8303-43e4-46c2-8618-c6a29918b9b5",
   "metadata": {},
   "outputs": [
    {
     "name": "stdout",
     "output_type": "stream",
     "text": [
      "No. Aristotle lived in ancient Greece from 384-322 BC, while the first laptop was invented in 1981.\n"
     ]
    }
   ],
   "source": [
    "question = \"\"\"\n",
    "Was Aristotle alive when laptop was invented? Yes or No.\"\"\"\n",
    "\n",
    "response = get_completion(question)\n",
    "print(response)"
   ]
  },
  {
   "cell_type": "code",
   "execution_count": 13,
   "id": "cbdce884-4e16-4635-9ff3-90e370f7cfcc",
   "metadata": {},
   "outputs": [
    {
     "name": "stdout",
     "output_type": "stream",
     "text": [
      "First, let's calculate the total cost of the shuttlecocks without any discounts:\n",
      "\n",
      "Cost per shuttlecock = RM7\n",
      "Shuttlecocks per tube = 12\n",
      "Total cost per tube = RM7 * 12 = RM84\n",
      "\n",
      "Bob buys 2 more tubes, so the total cost without any discounts would be:\n",
      "Total cost for 2 tubes = RM84 * 2 = RM168\n",
      "\n",
      "Now, let's calculate the total cost with the 5% discount for each tube:\n",
      "\n",
      "Discount per tube = 5% of RM84 = 0.05 * RM84 = RM4.20\n",
      "Total discount for 2 tubes = RM4.20 * 2 = RM8.40\n",
      "\n",
      "Total cost after discount = Total cost without discount - Total discount\n",
      "Total cost after discount = RM168 - RM8.40 = RM159.60\n",
      "\n",
      "Therefore, Bob has to pay RM159.60 in total after receiving the 5% discount for each tube he buys.\n"
     ]
    }
   ],
   "source": [
    "question = \"\"\"\n",
    "Bob buys 2 more tubes of shuttlecocks. Each tube has 12 shuttlecocks, whereby each shuttlecocks cost RM7. \\\n",
    "If he received 5% discounts for each tube he buy, how much in total Bob has to pay?\"\"\"\n",
    "\n",
    "response = get_completion(question)\n",
    "print(response)"
   ]
  },
  {
   "cell_type": "code",
   "execution_count": 14,
   "id": "9155b431-fb6e-4e47-b6c5-cf655d1a3156",
   "metadata": {},
   "outputs": [
    {
     "name": "stdout",
     "output_type": "stream",
     "text": [
      "You started with 10 apples, gave away 4, bought 5 more, and ate 1. \n",
      "\n",
      "So, you remained with 10 - 4 + 5 - 1 = 10 apples. \n",
      "\n",
      "You remained with 10 apples.\n"
     ]
    }
   ],
   "source": [
    "question = \"\"\"\n",
    "I went to the market and bought 10 apples. I gave 2 apples to the neighbor and 2 to the repairman. \\\n",
    "I then went and bought 5 more apples and ate 1. How many apples did I remain with?\"\"\"\n",
    "\n",
    "response = get_completion(question)\n",
    "print(response)"
   ]
  },
  {
   "cell_type": "markdown",
   "id": "18ce4a88-d0bb-47be-8e57-1030089fdbf5",
   "metadata": {},
   "source": [
    "### Limitations of LLMs when it comes to complex reasoning problem even for zero-shot CoT prompting."
   ]
  },
  {
   "cell_type": "code",
   "execution_count": 8,
   "id": "18b140ba-7f22-4d32-ba7f-eb2decf9e3aa",
   "metadata": {},
   "outputs": [
    {
     "name": "stdout",
     "output_type": "stream",
     "text": [
      "Let's denote the three digits as A, B, and C.\n",
      "\n",
      "According to the given conditions:\n",
      "B = 4C\n",
      "A = B - 3\n",
      "\n",
      "Substitute the value of B from the first equation into the second equation:\n",
      "A = 4C - 3\n",
      "\n",
      "Since A, B, and C are digits, they must be between 0 and 9. From the first equation, we know that B = 4C, so C can only be 1 or 2. If C = 1, then B = 4 and A = 1, which doesn't satisfy the condition that A is three less than B. Therefore, C must be 2.\n",
      "\n",
      "If C = 2, then B = 4(2) = 8 and A = 8 - 3 = 5.\n",
      "\n",
      "Therefore, the three-digit number is 582.\n"
     ]
    }
   ],
   "source": [
    "question = \"\"\"\n",
    "There is a three-digit number. The second digit is four times as big as the third digit, \\\n",
    "while the first digit is three less than the second digit. What is the number?\"\"\"\n",
    "\n",
    "response = get_completion(question)\n",
    "print(response)"
   ]
  },
  {
   "cell_type": "code",
   "execution_count": 9,
   "id": "e84f1e23-3476-40ca-a19e-503869a86eb4",
   "metadata": {},
   "outputs": [
    {
     "name": "stdout",
     "output_type": "stream",
     "text": [
      "Step 1: Let's represent the three-digit number as ABC, where A is the first digit, B is the second digit, and C is the third digit.\n",
      "\n",
      "Step 2: We know that the second digit is four times as big as the third digit, so we can write this as B = 4C.\n",
      "\n",
      "Step 3: We also know that the first digit is three less than the second digit, so we can write this as A = B - 3.\n",
      "\n",
      "Step 4: Substituting the value of B from step 2 into step 3, we get A = 4C - 3.\n",
      "\n",
      "Step 5: Since the number is a three-digit number, A cannot be 0. Therefore, A must be 1, 2, 3, 4, 5, 6, 7, 8, or 9.\n",
      "\n",
      "Step 6: Let's try each value of A and see if we can find a valid solution.\n",
      "\n",
      "If A = 1, then B = 4C + 3. Since B is a digit, the only possible value for C is 1. However, this would make B = 7, which is not a valid digit.\n",
      "\n",
      "If A = 2, then B = 4C + 3. The only possible value for C is 1, which gives us B = 7. Therefore, the number is 217.\n",
      "\n",
      "Therefore, the three-digit number is 217.\n"
     ]
    }
   ],
   "source": [
    "question = \"\"\"\n",
    "There is a three-digit number. The second digit is four times as big as the third digit, \\\n",
    "while the first digit is three less than the second digit. What is the number? \\\n",
    "Let's think step by step.\"\"\"\n",
    "\n",
    "response = get_completion(question)\n",
    "print(response)"
   ]
  },
  {
   "cell_type": "markdown",
   "id": "7ca70e63-ce92-41a7-8bd7-801df2c483c6",
   "metadata": {},
   "source": [
    "### Few shot CoT prompting"
   ]
  },
  {
   "cell_type": "code",
   "execution_count": 19,
   "id": "1899932c-02fc-4f58-9800-7379e7d117a3",
   "metadata": {},
   "outputs": [
    {
     "name": "stdout",
     "output_type": "stream",
     "text": [
      "Option 1: 10 + 40 + 10 = 60 minutes\n",
      "Option 2: 9 + 45 + 10 = 64 minutes\n",
      "So, option 1 is faster than option 2.\n"
     ]
    }
   ],
   "source": [
    "question = \"\"\"\n",
    "Which is a faster way to get to work?\n",
    "Option 1: Take a 15 minute bus, then a half hour train, and finally a 10 minute bike ride.\n",
    "Option 2: Take a 5 minute bus, then an hour train, and finally a 120 seconds walk.\n",
    "Reasoning: \\\n",
    "Option 1: 15 + (0.5*60) + 10 = 55 minutes\n",
    "Option 2: 5 + 60 + (120 / 60) = 67 minutes\n",
    "So, option 1 is faster than option 2.\n",
    "\n",
    "Option 1: Take an 10 minutes bus, then an 40 minute bus, and finally a 10 minute train.\n",
    "Option 2: Take a 9 minutes train, then a 45 minute bike ride, and finally a 10 minute bus.\n",
    "Reasoning: \n",
    "\"\"\"\n",
    "\n",
    "response = get_completion(question)\n",
    "print(response)"
   ]
  },
  {
   "cell_type": "code",
   "execution_count": 16,
   "id": "ca46af17-b04e-476b-8929-50459793bc07",
   "metadata": {},
   "outputs": [
    {
     "name": "stdout",
     "output_type": "stream",
     "text": [
      "Option 1 is the faster way to get to work. It involves a total travel time of 55 minutes (15 minutes bus + 30 minutes train + 10 minute bike ride), while Option 2 involves a total travel time of 65 minutes (5 minutes bus + 60 minutes train + 120 seconds walk).\n"
     ]
    }
   ],
   "source": [
    "question = \"\"\"\n",
    "Which is a faster way to get to work?\n",
    "Option 1: Take a 15 minute bus, then a half hour train, and finally a 10 minute bike ride.\n",
    "Option 2: Take a 5 minute bus, then an hour train, and finally a 120 seconds walk.\"\"\"\n",
    "\n",
    "response = get_completion(question)\n",
    "print(response)"
   ]
  },
  {
   "cell_type": "markdown",
   "id": "f8581cfa-8156-4090-9070-af58653338dd",
   "metadata": {},
   "source": [
    "## Self-consistency\n",
    "Self-consistency prompting is a technique that generates multiple CoT by prompting the model several times to obtain different outputs. The final outputs is then obtained by a majority vote, where the most commonly occurring output or response is selected as final result."
   ]
  },
  {
   "cell_type": "code",
   "execution_count": 20,
   "id": "40942b4c-4e91-4794-be0f-278b569e438a",
   "metadata": {},
   "outputs": [],
   "source": [
    "def chain_of_thought_prompts(prompt, model='gpt-3.5-turbo', iterations=3, temperature=0.0):\n",
    "    current_prompt = prompt + \" Let's think step by step.\"\n",
    "    messages = [{\"role\": \"user\", \"content\": current_prompt}]\n",
    "    response = client.chat.completions.create(\n",
    "        model=model,\n",
    "        messages=messages,\n",
    "        n=iterations,\n",
    "        temperature=temperature\n",
    "    )\n",
    "    responses = [choice.message.content for choice in response.choices if choice.message.role == 'assistant']\n",
    "    return responses"
   ]
  },
  {
   "cell_type": "code",
   "execution_count": 22,
   "id": "46c71088-313b-40d5-b3dc-d0b602eb5fdf",
   "metadata": {},
   "outputs": [
    {
     "name": "stdout",
     "output_type": "stream",
     "text": [
      "['When you were 10, your sister was half your age, which means she was 5 years old at that time.\\n\\nNow you are 32, which means there is a 22-year age gap between you and your sister.\\n\\nSo, if your sister was 5 when you were 10, she would be 5 + 22 = 27 years old now.', 'When you were 10, your sister was half your age, so she was 5 years old. \\n\\nNow that you are 32, 22 years have passed since you were 10. \\n\\nTherefore, your sister is now 5 + 22 = 27 years old.', \"When you were 10, your sister was half your age, which means she was 5 years old at that time.\\n\\nNow you are 32 years old, so if we add the age difference between you and your sister (32-10 = 22), we can determine your sister's current age.\\n\\nTherefore, your sister is now 27 years old.\"]\n"
     ]
    }
   ],
   "source": [
    "prompt = \"\"\"\n",
    "When I was 10 my sister was half my age. Now I'm 32 how old is my sister?\"\"\"\n",
    "\n",
    "responses = chain_of_thought_prompts(prompt, temperature=0.3)\n",
    "print(responses)"
   ]
  },
  {
   "cell_type": "code",
   "execution_count": 25,
   "id": "b7eb3a98-8186-4f20-9b44-5f03481fed23",
   "metadata": {},
   "outputs": [
    {
     "name": "stdout",
     "output_type": "stream",
     "text": [
      "Expert 1: When you were 10, your sister was half your age, which means she was 5 years old at that time.  Now you are 32, which means there is a 22-year age gap between you and your sister.  So, if your sister was 5 when you were 10, she would be 5 + 22 = 27 years old now. \n",
      "Expert 2: When you were 10, your sister was half your age, so she was 5 years old.   Now that you are 32, 22 years have passed since you were 10.   Therefore, your sister is now 5 + 22 = 27 years old. \n",
      "Expert 3: When you were 10, your sister was half your age, which means she was 5 years old at that time.  Now you are 32 years old, so if we add the age difference between you and your sister (32-10 = 22), we can determine your sister's current age.  Therefore, your sister is now 27 years old. \n",
      "Based on majority voting, what will be the age of my sister when I am 32?\n"
     ]
    }
   ],
   "source": [
    "new_prompt = \"\"\n",
    "for i, s in enumerate(responses):\n",
    "    # remove newline within a single output\n",
    "    s = s.replace(\"\\n\", \" \")\n",
    "    new_prompt += f\"Expert {i+1}: \" + s + \" \\n\"\n",
    "\n",
    "new_prompt += \"Based on majority voting, what will be the age of my sister when I am 32?\"\n",
    "print(new_prompt)"
   ]
  },
  {
   "cell_type": "code",
   "execution_count": 26,
   "id": "6af90fce-a2eb-4f44-bead-1fb324ae7622",
   "metadata": {},
   "outputs": [
    {
     "name": "stdout",
     "output_type": "stream",
     "text": [
      "The age of your sister when you are 32 will be 27 years old, according to the majority voting of the experts.\n"
     ]
    }
   ],
   "source": [
    "response = get_completion(new_prompt)\n",
    "print(response)"
   ]
  },
  {
   "cell_type": "markdown",
   "id": "65ec7e7e-4b0f-4d04-ba65-61ee0b14100e",
   "metadata": {},
   "source": [
    "## Tree-of-thought (ToT) prompting\n",
    "ToT maintains a tree of thoughts, where thoughts represent coherent language sequences that serve as intermediate steps toward solving a problem. This approach enables an LM to self-evaluate the progress through intermediate thoughts made towards solving a problem through a deliberate reasoning process. \n",
    "\n",
    "[Hulbert (2023)](https://github.com/dave1010/tree-of-thought-prompting/blob/main/tree-of-thought-prompts.txt) has proposed Tree-of-Thought Prompting, which applies the main concept from ToT frameworks as a simple prompting technique, getting the LLM to evaluate intermediate thoughts in a single prompt."
   ]
  },
  {
   "cell_type": "code",
   "execution_count": 27,
   "id": "abf7b49b-ed71-461b-8009-74d323220d01",
   "metadata": {},
   "outputs": [
    {
     "name": "stdout",
     "output_type": "stream",
     "text": [
      "Expert 1 (Mathematician):\n",
      "Step: Identify the pattern in the number series.\n",
      "Thinking: The pattern seems to be alternating between adding 1 and subtracting 2.\n",
      "Score: 4\n",
      "\n",
      "Expert 2 (Statistician):\n",
      "Step: Analyze the frequency of the numbers in the series.\n",
      "Thinking: The numbers 28, 27, and 26 appear once each, while 29 appears twice. Following this pattern, the next number should be 27.\n",
      "Score: 4\n",
      "\n",
      "Expert 3 (Data Scientist):\n",
      "Step: Use a mathematical formula to predict the next number.\n",
      "Thinking: The formula for this series seems to be (n-1) + (-1)^n, where n is the position in the series. Plugging in n=6, we get (6-1) + (-1)^6 = 5 - 1 = 4. Therefore, the next number should be 4.\n",
      "Score: 3\n",
      "\n",
      "Consensus/Best guess solution: Based on the analysis provided by the mathematician and statistician, it seems more likely that the next number in the series is 27. Therefore, the consensus solution is 27.\n"
     ]
    }
   ],
   "source": [
    "question = \"28, 29, 27, 28, 26, ...\"\n",
    "\n",
    "prompt = f\"\"\"\n",
    "Identify and behave as three different experts that are appropriate to answering this question. \\\n",
    "All experts will write down the step and their thinking about the step, then share it with the group. \\\n",
    "Then, all experts will go on to the next step, etc. \\\n",
    "At each step all experts will score their peers response between 1 and 5, 1 meaning it is highly unlikely, \\\n",
    "and 5 meaning it is highly likely.\n",
    "If any expert is judged to be wrong at any point then they leave. \\\n",
    "After all experts have provided their analysis, you then analyze all 3 analyses and provide either \\\n",
    "the consensus solution or your best guess solution.\n",
    "\n",
    "What is the number that comes next for the number series below? \\\n",
    "Number series: '''{question}'''\"\"\"\n",
    "\n",
    "response = get_completion(prompt, temperature=0.5)\n",
    "print(response)"
   ]
  },
  {
   "cell_type": "code",
   "execution_count": null,
   "id": "5c96dbbc-43ee-4e7e-b68f-d7318258ed0c",
   "metadata": {},
   "outputs": [],
   "source": []
  }
 ],
 "metadata": {
  "kernelspec": {
   "display_name": "Python 3 (ipykernel)",
   "language": "python",
   "name": "python3"
  },
  "language_info": {
   "codemirror_mode": {
    "name": "ipython",
    "version": 3
   },
   "file_extension": ".py",
   "mimetype": "text/x-python",
   "name": "python",
   "nbconvert_exporter": "python",
   "pygments_lexer": "ipython3",
   "version": "3.10.12"
  }
 },
 "nbformat": 4,
 "nbformat_minor": 5
}
